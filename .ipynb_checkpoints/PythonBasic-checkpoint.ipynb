{
 "cells": [
  {
   "cell_type": "code",
   "execution_count": 1,
   "metadata": {},
   "outputs": [],
   "source": [
    "import functools"
   ]
  },
  {
   "cell_type": "code",
   "execution_count": 2,
   "metadata": {},
   "outputs": [],
   "source": [
    "c = [1,2,3,4,4,11,14,15]"
   ]
  },
  {
   "cell_type": "code",
   "execution_count": 6,
   "metadata": {},
   "outputs": [],
   "source": [
    "fn = lambda x,y : x if x>y else y"
   ]
  },
  {
   "cell_type": "code",
   "execution_count": 7,
   "metadata": {},
   "outputs": [
    {
     "data": {
      "text/plain": [
       "15"
      ]
     },
     "execution_count": 7,
     "metadata": {},
     "output_type": "execute_result"
    }
   ],
   "source": [
    "functools.reduce(fn,c)"
   ]
  },
  {
   "cell_type": "code",
   "execution_count": 18,
   "metadata": {},
   "outputs": [],
   "source": [
    "def countChars(*args):\n",
    "    '''This variable number of parameter method counts number of character in each item'''\n",
    "    countList = dict()\n",
    "    for eachArg in args:\n",
    "        for eachChar in eachArg:\n",
    "            tempStr = str(eachChar).upper()\n",
    "            if(len(countList)>0):\n",
    "                if(tempStr in countList.keys()):\n",
    "                    countList[tempStr] = countList[tempStr] + 1\n",
    "                else:\n",
    "                    countList[tempStr] = 1\n",
    "            else:\n",
    "                countList[tempStr] = 1\n",
    "    return countList\n",
    "\n",
    "ans = countChars(\"Gary\", \"Kris\", \"Cathy\", \"John\", \"Alex\")\n",
    "                "
   ]
  },
  {
   "cell_type": "code",
   "execution_count": 20,
   "metadata": {},
   "outputs": [
    {
     "data": {
      "text/plain": [
       "{'G': 1,\n",
       " 'A': 3,\n",
       " 'R': 2,\n",
       " 'Y': 2,\n",
       " 'K': 1,\n",
       " 'I': 1,\n",
       " 'S': 1,\n",
       " 'C': 1,\n",
       " 'T': 1,\n",
       " 'H': 2,\n",
       " 'J': 1,\n",
       " 'O': 1,\n",
       " 'N': 1,\n",
       " 'L': 1,\n",
       " 'E': 1,\n",
       " 'X': 1}"
      ]
     },
     "execution_count": 20,
     "metadata": {},
     "output_type": "execute_result"
    }
   ],
   "source": [
    "ans"
   ]
  },
  {
   "cell_type": "code",
   "execution_count": 21,
   "metadata": {},
   "outputs": [
    {
     "name": "stdout",
     "output_type": "stream",
     "text": [
      "{'G': 1, 'A': 3, 'R': 2, 'Y': 2, 'K': 1, 'I': 1, 'S': 1, 'C': 1, 'T': 1, 'H': 2, 'J': 1, 'O': 1, 'N': 1, 'L': 1, 'E': 1, 'X': 1}"
     ]
    }
   ],
   "source": [
    "print(ans,end='')"
   ]
  },
  {
   "cell_type": "code",
   "execution_count": 48,
   "metadata": {
    "scrolled": true
   },
   "outputs": [
    {
     "name": "stdout",
     "output_type": "stream",
     "text": [
      "[2, 4, 6, 8]\n"
     ]
    }
   ],
   "source": [
    "def myRange(*args):\n",
    "    \"\"\"Created Range Function\"\"\"\n",
    "    startpt = endpt = step = 0\n",
    "    \n",
    "    if (len(args) == 3):\n",
    "        startpt = args[0]\n",
    "        endpt = args[1]\n",
    "        step = args[2]\n",
    "        \n",
    "    if (len(args) == 2):\n",
    "        startpt = args[0]\n",
    "        endpt = args[1]\n",
    "        step = 1\n",
    "        \n",
    "    if (len(args) == 1):\n",
    "        startpt = 0\n",
    "        endpt = args[0]\n",
    "        step = 1  \n",
    "           \n",
    "    while(startpt<endpt):\n",
    "        yield startpt\n",
    "        startpt = startpt+step\n",
    "        \n",
    "Result = myRange(2,10,2)\n",
    "print(list(Result))       \n",
    "    "
   ]
  },
  {
   "cell_type": "code",
   "execution_count": 31,
   "metadata": {},
   "outputs": [
    {
     "data": {
      "text/plain": [
       "generator"
      ]
     },
     "execution_count": 31,
     "metadata": {},
     "output_type": "execute_result"
    }
   ],
   "source": [
    "type(Result)"
   ]
  },
  {
   "cell_type": "code",
   "execution_count": null,
   "metadata": {},
   "outputs": [],
   "source": []
  }
 ],
 "metadata": {
  "kernelspec": {
   "display_name": "Python 3",
   "language": "python",
   "name": "python3"
  },
  "language_info": {
   "codemirror_mode": {
    "name": "ipython",
    "version": 3
   },
   "file_extension": ".py",
   "mimetype": "text/x-python",
   "name": "python",
   "nbconvert_exporter": "python",
   "pygments_lexer": "ipython3",
   "version": "3.7.4"
  }
 },
 "nbformat": 4,
 "nbformat_minor": 2
}
