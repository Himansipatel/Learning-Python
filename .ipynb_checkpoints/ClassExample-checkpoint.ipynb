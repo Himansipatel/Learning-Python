{
 "cells": [
  {
   "cell_type": "code",
   "execution_count": 3,
   "metadata": {},
   "outputs": [
    {
     "data": {
      "text/plain": [
       "'Class \"and\" Objects'"
      ]
     },
     "execution_count": 3,
     "metadata": {},
     "output_type": "execute_result"
    }
   ],
   "source": [
    "\"\"\"Class \\\"and\\\" Objects\"\"\""
   ]
  },
  {
   "cell_type": "code",
   "execution_count": 15,
   "metadata": {},
   "outputs": [
    {
     "name": "stdout",
     "output_type": "stream",
     "text": [
      "Name : Himansi||Student ID : 40072262||1\n",
      "1\n"
     ]
    }
   ],
   "source": [
    "class Demo:\n",
    "    \n",
    "    count = 0\n",
    "    \n",
    "    def __init__(self,name,id):\n",
    "        self.name = name\n",
    "        self.id = id\n",
    "        Demo.count = Demo.count+1\n",
    "        \n",
    "    def getCount(self):\n",
    "        return Demo.count\n",
    "        \n",
    "    def __str__(self):\n",
    "        return \"Name : \"+self.name+\"||\"+\"Student ID : \"+ str(self.id)+\"||\"+str(Demo.count)\n",
    "    \n",
    "    \n",
    "demoObject = Demo(\"Himansi\",40072262)\n",
    "print(demoObject)\n",
    "\n",
    "print(demoObject.getCount())\n"
   ]
  },
  {
   "cell_type": "code",
   "execution_count": 17,
   "metadata": {},
   "outputs": [
    {
     "name": "stdout",
     "output_type": "stream",
     "text": [
      "In B\n"
     ]
    }
   ],
   "source": [
    "class A : \n",
    "    def __init__(self,nameA):\n",
    "        self.nameA = nameA\n",
    "       \n",
    "    def sameMethod(self):\n",
    "        print(\"In A\")\n",
    "        \n",
    "#----------------------------------------------------------------------\n",
    "\n",
    "class B : \n",
    "    def __init__(self,nameB):\n",
    "        self.nameB = nameB\n",
    "       \n",
    "    def sameMethod(self):\n",
    "        print(\"In B\")\n",
    "        \n",
    "#----------------------------------------------------------------------\n",
    "\n",
    "class C(B,A):\n",
    "    def __init__(self,nameC):\n",
    "        self.nameC = nameC\n",
    "        \n",
    "c1 = C(\"hi there\")\n",
    "c1.sameMethod()\n",
    "       \n",
    "   # def sameMethod(self):\n",
    "    #    print(\"In A\")"
   ]
  },
  {
   "cell_type": "code",
   "execution_count": null,
   "metadata": {},
   "outputs": [],
   "source": []
  }
 ],
 "metadata": {
  "kernelspec": {
   "display_name": "Python 3",
   "language": "python",
   "name": "python3"
  },
  "language_info": {
   "codemirror_mode": {
    "name": "ipython",
    "version": 3
   },
   "file_extension": ".py",
   "mimetype": "text/x-python",
   "name": "python",
   "nbconvert_exporter": "python",
   "pygments_lexer": "ipython3",
   "version": "3.7.4"
  }
 },
 "nbformat": 4,
 "nbformat_minor": 2
}
